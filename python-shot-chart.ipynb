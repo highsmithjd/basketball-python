{
 "cells": [
  {
   "cell_type": "code",
   "execution_count": null,
   "metadata": {},
   "outputs": [],
   "source": [
    "# based off the tutorial here: \n",
    "# https://www.jphwang.com/nba-shot-data-analytics-visualization-with-python-pandas-and-matplotlib-part-1-the-basics/"
   ]
  },
  {
   "cell_type": "code",
   "execution_count": 1,
   "metadata": {},
   "outputs": [],
   "source": [
    "import pandas as pd\n",
    "import numpy as np\n",
    "import matplotlib.pyplot as plt\n",
    "logpath = \"data/NBA-PbP-Data.csv\"\n",
    "log_df = pd.read_csv(logpath)\n"
   ]
  },
  {
   "cell_type": "code",
   "execution_count": 2,
   "metadata": {},
   "outputs": [
    {
     "name": "stdout",
     "output_type": "stream",
     "text": [
      "['Shot made or missed' nan 'missed' 'made']\n"
     ]
    }
   ],
   "source": [
    "# check dataframe for columns with log_df.columns\n",
    "# find the column that may contain the data we need and look for unique values\n",
    "# in this dataframe, in the event_type column we have shot and miss\n",
    "\n",
    "print(log_df.result.unique())"
   ]
  },
  {
   "cell_type": "code",
   "execution_count": 3,
   "metadata": {},
   "outputs": [],
   "source": [
    "# add column 'shot_made' to log_df and assign 0 to all (missed/made) but then assign 1 to 'made.' \n",
    "# missed is = 0, made is = 1\n",
    "\n",
    "log_df['shot_made'] = 0\n",
    "log_df['shot_made'] = log_df['shot_made'].mask(log_df.result == 'made', 1)"
   ]
  },
  {
   "cell_type": "code",
   "execution_count": 4,
   "metadata": {},
   "outputs": [],
   "source": [
    "# filter log_df to the event_type of 'shot' and team of 'PHX'\n",
    "\n",
    "log_df = log_df[(log_df['event_type'] == 'shot') & (log_df['team'] == 'PHX')]"
   ]
  },
  {
   "cell_type": "code",
   "execution_count": 10,
   "metadata": {},
   "outputs": [],
   "source": [
    "# convert converted_x and converted_y columns to numeric\n",
    "\n",
    "log_df['converted_x'] = pd.to_numeric(log_df['converted_x'])\n",
    "log_df['converted_y'] = pd.to_numeric(log_df['converted_y'])"
   ]
  },
  {
   "cell_type": "code",
   "execution_count": 11,
   "metadata": {},
   "outputs": [],
   "source": [
    "# create a filtered dataframe where the column values equal shot or missed\n",
    "\n",
    "shots_df = log_df[(log_df['result'] == 'made') | (log_df['result'] == 'missed')]"
   ]
  },
  {
   "cell_type": "code",
   "execution_count": 12,
   "metadata": {},
   "outputs": [
    {
     "data": {
      "image/png": "[encoded data removed]",
      "text/plain": [
       "<Figure size 432x288 with 1 Axes>"
      ]
     },
     "metadata": {
      "needs_background": "light"
     },
     "output_type": "display_data"
    }
   ],
   "source": [
    "plt.scatter(shots_df['converted_x'], shots_df['converted_y'])\n",
    "plt.show()\n"
   ]
  },
  {
   "cell_type": "code",
   "execution_count": null,
   "metadata": {},
   "outputs": [],
   "source": []
  },
  {
   "cell_type": "code",
   "execution_count": null,
   "metadata": {},
   "outputs": [],
   "source": []
  }
 ],
 "metadata": {
  "kernelspec": {
   "display_name": "Python 3",
   "language": "python",
   "name": "python3"
  },
  "language_info": {
   "codemirror_mode": {
    "name": "ipython",
    "version": 3
   },
   "file_extension": ".py",
   "mimetype": "text/x-python",
   "name": "python",
   "nbconvert_exporter": "python",
   "pygments_lexer": "ipython3",
   "version": "3.8.5"
  }
 },
 "nbformat": 4,
 "nbformat_minor": 4
}
